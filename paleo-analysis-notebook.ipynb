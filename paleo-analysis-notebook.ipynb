{
 "cells": [
  {
   "cell_type": "markdown",
   "metadata": {},
   "source": [
    "#### Paleo Analysis and Parsing of the Paleontological Database\n",
    "Data extracted from [The Paleobiology Database](http://paleobiodb.org/data1.2/occs/list.csv?datainfo&rowcount&base_name=Dinosauria&max_ma=252&min_ma=65)\t\t\t\t\t\t\t\t\t\t\t\t\t\t\t\t\n"
   ]
  },
  {
   "cell_type": "code",
   "execution_count": 2,
   "metadata": {},
   "outputs": [],
   "source": [
    "# library imports\n",
    "import pandas as pd\n",
    "import numpy as np\n",
    "import seaborn as sb\n",
    "import matplotlib as mpl"
   ]
  },
  {
   "cell_type": "code",
   "execution_count": 5,
   "metadata": {},
   "outputs": [
    {
     "name": "stdout",
     "output_type": "stream",
     "text": [
      "      orig_no  taxon_no record_type flags taxon_rank  \\\n",
      "0      167126  167126.0         txn   NaN      genus   \n",
      "1      167127  167127.0         txn   NaN    species   \n",
      "2       67677   67677.0         txn   NaN      genus   \n",
      "3       67678   67678.0         txn   NaN    species   \n",
      "4       66590   66590.0         txn   NaN      genus   \n",
      "...       ...       ...         ...   ...        ...   \n",
      "3736   142971  142971.0         txn     I      genus   \n",
      "3737   142972  142972.0         txn     I    species   \n",
      "3738   156000  156000.0         txn    IF      genus   \n",
      "3739   156001  156001.0         txn    IF    species   \n",
      "3740    91057   91057.0         txn     I    species   \n",
      "\n",
      "                     taxon_name               taxon_attr  difference  \\\n",
      "0                  Ajkaceratops          Osi et al. 2010         NaN   \n",
      "1           Ajkaceratops kozmai          Osi et al. 2010         NaN   \n",
      "2                Turanoceratops       Nessov et al. 1989         NaN   \n",
      "3     Turanoceratops tardabilis       Nessov et al. 1989         NaN   \n",
      "4                  Zuniceratops  Wolfe and Kirkland 1998         NaN   \n",
      "...                         ...                      ...         ...   \n",
      "3736             Toyamasauripus    Matsukawa et al. 1997         NaN   \n",
      "3737     Toyamasauripus masuiae    Matsukawa et al. 1997         NaN   \n",
      "3738                  Xiphopeza           Hitchcock 1848         NaN   \n",
      "3739          Xiphopeza triplex           Hitchcock 1848         NaN   \n",
      "3740    Yunnanpus huangcaoensis      Chen and Huang 1993         NaN   \n",
      "\n",
      "      accepted_no accepted_rank  ... is_extant  n_occs taxon_size  \\\n",
      "0        167126.0         genus  ...   extinct       2        2.0   \n",
      "1        167127.0       species  ...   extinct       1        1.0   \n",
      "2         67677.0         genus  ...   extinct      12        2.0   \n",
      "3         67678.0       species  ...   extinct       6        1.0   \n",
      "4         66590.0         genus  ...   extinct       6        2.0   \n",
      "...           ...           ...  ...       ...     ...        ...   \n",
      "3736     142971.0         genus  ...   extinct       4        2.0   \n",
      "3737     142972.0       species  ...   extinct       2        1.0   \n",
      "3738     156000.0         genus  ...   extinct       6        2.0   \n",
      "3739     156001.0       species  ...   extinct       3        1.0   \n",
      "3740      91057.0       species  ...   extinct       1        1.0   \n",
      "\n",
      "      extant_size    phylum         class               order  \\\n",
      "0             0.0  Chordata  Ornithischia  NO_ORDER_SPECIFIED   \n",
      "1             0.0  Chordata  Ornithischia  NO_ORDER_SPECIFIED   \n",
      "2             0.0  Chordata  Ornithischia  NO_ORDER_SPECIFIED   \n",
      "3             0.0  Chordata  Ornithischia  NO_ORDER_SPECIFIED   \n",
      "4             0.0  Chordata  Ornithischia  NO_ORDER_SPECIFIED   \n",
      "...           ...       ...           ...                 ...   \n",
      "3736          0.0  Chordata      Reptilia  NO_ORDER_SPECIFIED   \n",
      "3737          0.0  Chordata      Reptilia  NO_ORDER_SPECIFIED   \n",
      "3738          0.0  Chordata      Reptilia  NO_ORDER_SPECIFIED   \n",
      "3739          0.0  Chordata      Reptilia  NO_ORDER_SPECIFIED   \n",
      "3740          0.0  Chordata      Reptilia  NO_ORDER_SPECIFIED   \n",
      "\n",
      "                   family           genus              type_taxon  \n",
      "0     NO_FAMILY_SPECIFIED    Ajkaceratops                     NaN  \n",
      "1     NO_FAMILY_SPECIFIED    Ajkaceratops                     NaN  \n",
      "2     NO_FAMILY_SPECIFIED  Turanoceratops                     NaN  \n",
      "3     NO_FAMILY_SPECIFIED  Turanoceratops                     NaN  \n",
      "4     NO_FAMILY_SPECIFIED    Zuniceratops                     NaN  \n",
      "...                   ...             ...                     ...  \n",
      "3736  NO_FAMILY_SPECIFIED  Toyamasauripus  Toyamasauripus masuiae  \n",
      "3737  NO_FAMILY_SPECIFIED  Toyamasauripus                     NaN  \n",
      "3738  NO_FAMILY_SPECIFIED       Xiphopeza       Xiphopeza triplex  \n",
      "3739  NO_FAMILY_SPECIFIED       Xiphopeza                     NaN  \n",
      "3740  NO_FAMILY_SPECIFIED       Yunnanpus                     NaN  \n",
      "\n",
      "[3741 rows x 24 columns]\n"
     ]
    }
   ],
   "source": [
    "df = pd.read_csv('dinosauria.csv')\n",
    "print(df)"
   ]
  }
 ],
 "metadata": {
  "kernelspec": {
   "display_name": "Python 3",
   "language": "python",
   "name": "python3"
  },
  "language_info": {
   "codemirror_mode": {
    "name": "ipython",
    "version": 3
   },
   "file_extension": ".py",
   "mimetype": "text/x-python",
   "name": "python",
   "nbconvert_exporter": "python",
   "pygments_lexer": "ipython3",
   "version": "3.12.5"
  }
 },
 "nbformat": 4,
 "nbformat_minor": 2
}
